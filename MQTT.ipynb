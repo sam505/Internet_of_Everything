{
  "nbformat": 4,
  "nbformat_minor": 0,
  "metadata": {
    "colab": {
      "name": "MQTT.ipynb",
      "provenance": [],
      "collapsed_sections": [],
      "authorship_tag": "ABX9TyNMZTu/7ew75vUPi3fyJSCu",
      "include_colab_link": true
    },
    "kernelspec": {
      "name": "python3",
      "display_name": "Python 3"
    },
    "language_info": {
      "name": "python"
    }
  },
  "cells": [
    {
      "cell_type": "markdown",
      "metadata": {
        "id": "view-in-github",
        "colab_type": "text"
      },
      "source": [
        "<a href=\"https://colab.research.google.com/github/sam505/Internet_of_Everything/blob/main/MQTT.ipynb\" target=\"_parent\"><img src=\"https://colab.research.google.com/assets/colab-badge.svg\" alt=\"Open In Colab\"/></a>"
      ]
    },
    {
      "cell_type": "code",
      "metadata": {
        "colab": {
          "base_uri": "https://localhost:8080/"
        },
        "id": "HLrduDeJA3pO",
        "outputId": "30771579-e63f-4df9-d621-6e5b11a2228c"
      },
      "source": [
        "!pip install paho-mqtt"
      ],
      "execution_count": 1,
      "outputs": [
        {
          "output_type": "stream",
          "text": [
            "Requirement already satisfied: paho-mqtt in /usr/local/lib/python3.7/dist-packages (1.5.1)\n"
          ],
          "name": "stdout"
        }
      ]
    },
    {
      "cell_type": "code",
      "metadata": {
        "colab": {
          "base_uri": "https://localhost:8080/"
        },
        "id": "MRl3QW3nAdqk",
        "outputId": "22e9b7c4-b153-4ca5-89b0-f5cc24f94f54"
      },
      "source": [
        "import paho.mqtt.client as mqtt \n",
        "from random import randrange, uniform\n",
        "import time\n",
        "\n",
        "mqtt_broker =\"mqtt.eclipseprojects.io\" # Broker address\n",
        "\n",
        "client = mqtt.Client()  # Intialise client \n",
        "client.connect(mqtt_broker) # Connect to public test MQTT broker\n",
        "\n",
        "temp = randrange(20, 30)\n",
        "client.publish(\"TEMPERATURE\", temp) # Publish data to topic TEMPERATURE\n",
        "print(\"Just published \" + str(temp) + \" to topic TEMPERATURE\")\n",
        "time.sleep(1)"
      ],
      "execution_count": 2,
      "outputs": [
        {
          "output_type": "stream",
          "text": [
            "Just published 28 to topic TEMPERATURE\n"
          ],
          "name": "stdout"
        }
      ]
    },
    {
      "cell_type": "code",
      "metadata": {
        "colab": {
          "base_uri": "https://localhost:8080/"
        },
        "id": "W1Z-UqIgAvSM",
        "outputId": "ed46cca2-102a-4d70-c5d6-3a627033ffb8"
      },
      "source": [
        "import paho.mqtt.client as mqtt\n",
        "import time\n",
        "\n",
        "def on_message(client, userdata, message):\n",
        "    print(\"Received Message: \" ,str(message.payload.decode(\"utf-8\")))\n",
        "\n",
        "mqttBroker =\"mqtt.eclipseprojects.io\" # Broker address\n",
        "\n",
        "client = mqtt.Client()  # Initialise client\n",
        "client.connect(mqttBroker) # Connect to public test MQTT broker\n",
        "\n",
        "client.loop_start()\n",
        "\n",
        "client.subscribe(\"TEMPERATURE\")  # Subscribe to topic TEMPERATURE\n",
        "client.on_message=on_message # Receive data from broker on topic TEMPERATURE\n",
        "\n",
        "time.sleep(1)\n",
        "client.loop_stop()"
      ],
      "execution_count": 3,
      "outputs": [
        {
          "output_type": "stream",
          "text": [
            "Received Message:  20.831149413870115\n"
          ],
          "name": "stdout"
        }
      ]
    },
    {
      "cell_type": "code",
      "metadata": {
        "id": "ctsW5fTjBJ6I"
      },
      "source": [
        ""
      ],
      "execution_count": 3,
      "outputs": []
    }
  ]
}